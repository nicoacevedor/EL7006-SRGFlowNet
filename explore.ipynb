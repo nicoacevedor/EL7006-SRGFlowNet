{
 "cells": [
  {
   "cell_type": "code",
   "execution_count": null,
   "metadata": {},
   "outputs": [],
   "source": [
    "import torch\n",
    "from torch import Tensor\n",
    "from train import train_gfn_sr"
   ]
  },
  {
   "cell_type": "markdown",
   "metadata": {},
   "source": [
    "### Benchmark Nguyen sin ruido"
   ]
  },
  {
   "cell_type": "code",
   "execution_count": null,
   "metadata": {},
   "outputs": [],
   "source": [
    "def h1(X: Tensor) -> Tensor:\n",
    "    return X[:, 0].pow(3) + X[:, 0].pow(2) + X[:, 0]\n",
    "\n",
    "def h2(X: Tensor) -> Tensor:\n",
    "    return X[:, 0].pow(4) + X[:, 0].pow(3) + X[:, 0].pow(2) + X[:, 0]\n",
    "\n",
    "def h3(X: Tensor) -> Tensor:\n",
    "    return (\n",
    "        X[:, 0].pow(5) + X[:, 0].pow(4) +\n",
    "        X[:, 0].pow(3) + X[:, 0].pow(2) + X[:, 0]\n",
    "    )\n",
    "\n",
    "def h4(X: Tensor) -> Tensor:\n",
    "    return (\n",
    "        X[:, 0].pow(6) + X[:, 0].pow(5) +\n",
    "        X[:, 0].pow(4) + X[:, 0].pow(3) +\n",
    "        X[:, 0].pow(2) + X[:, 0]\n",
    "    )\n",
    "\n",
    "def h5(X: Tensor) -> Tensor:\n",
    "    return X[:, 0].pow(2).sin() * X[:, 0].cos() - 1\n",
    "\n",
    "def h6(X: Tensor) -> Tensor:\n",
    "    return X[:, 0].sin() + (X[:, 0] + X[:, 0].pow(2)).sin()\n",
    "\n",
    "def h7(X: Tensor) -> Tensor:\n",
    "    return (X[:, 0] + 1).log() + (X[:, 0].pow(2) + 1).log()\n",
    "\n",
    "def h8(X: Tensor) -> Tensor:\n",
    "    return X[:, 0].sqrt()\n",
    "\n",
    "def h9(X: Tensor, Y: Tensor) -> Tensor:\n",
    "     return X[:, 0].sin() + Y[:, 0].pow(2).sin()\n",
    "\n",
    "def h10(X: Tensor, Y: Tensor) -> Tensor:\n",
    "    return 2 * X[:, 0].sin() * Y[:, 0].cos()\n",
    "\n",
    "def h11(X: Tensor, Y: Tensor) -> Tensor:\n",
    "    return X[:, 0].pow(Y[:, 0])\n",
    "\n",
    "def h12(X: Tensor, Y: Tensor) -> Tensor:\n",
    "    return (\n",
    "        X[:, 0].pow(4) - X[:, 0].pow(3) +\n",
    "        0.5 * Y[:, 0].pow(2) - Y[:, 0]\n",
    "    )\n"
   ]
  },
  {
   "cell_type": "markdown",
   "metadata": {},
   "source": [
    "#### Intervalos considerados"
   ]
  },
  {
   "cell_type": "code",
   "execution_count": null,
   "metadata": {},
   "outputs": [],
   "source": [
    "FUNC_PARAMS = {\n",
    "    h1: {\"interval\": (-1, 1), \"n_variables\": 1, \"expr\": \"x**3 + x**2 + x\"},\n",
    "    h2: {\"interval\": (-1, 1), \"n_variables\": 1, \"expr\": \"x**4 + x**3 + x**2 + x\"},\n",
    "    h3: {\"interval\": (-1, 1), \"n_variables\": 1, \"expr\": \"x**5 + x**4 + x**3 + x**2 + x\"},\n",
    "    h4: {\"interval\": (-1, 1), \"n_variables\": 1, \"expr\": \"x**6 + x**5 + x**4 + x**3 + x**2 + x\"},\n",
    "    h5: {\"interval\": (-1, 1), \"n_variables\": 1, \"expr\": \"sin(x**2)cos(x) - 1\"},\n",
    "    h6: {\"interval\": (-1, 1), \"n_variables\": 1, \"expr\": \"sin(x) + sin(x + x**2)\"},\n",
    "    h7: {\"interval\": (0, 2), \"n_variables\": 1, \"expr\": \"log(x + 1) + log(x**2 + 1)\"},\n",
    "    h8: {\"interval\": (0, 4), \"n_variables\": 1, \"expr\": \"sqrt(x)\"},\n",
    "    h9: {\"interval\": (-1, 1), \"n_variables\": 2, \"expr\": \"sin(x) + sin(y**2)\"},\n",
    "    h10: {\"interval\": (-1, 1), \"n_variables\": 2, \"expr\": \"2sin(x)cos(y)\"},\n",
    "    # h11: {\"interval\": (1, 3), \"n_variables\": 2, \"expr\": \"x**y\"},\n",
    "    # h12: {\"interval\": (0, 2), \"n_variables\": 2, \"expr\": \"x**4 - x**3 + 0.5 * y**2 - y\"},\n",
    "}"
   ]
  },
  {
   "cell_type": "code",
   "execution_count": null,
   "metadata": {},
   "outputs": [],
   "source": [
    "batch_size = 64\n",
    "num_epochs = 5000"
   ]
  },
  {
   "cell_type": "code",
   "execution_count": null,
   "metadata": {},
   "outputs": [],
   "source": [
    "for i, (function, params) in enumerate(FUNC_PARAMS.items()):\n",
    "    print('-'*50)\n",
    "    print(f\"FUNCTION {params['expr']}\")\n",
    "    low_bound, upp_bound = params[\"interval\"]\n",
    "    # Traslación lineal al intervalo correspondiente\n",
    "    X = torch.empty(200, params[\"n_variables\"]).uniform_(0, 1) * (upp_bound - low_bound) + low_bound\n",
    "    y = function(*X.split(1, dim=1))\n",
    "    model, env, errs, avg_mses, top_mses = train_gfn_sr(X, y, batch_size, num_epochs, show_plot=True, use_gpu=True)\n",
    "    torch.save(model, f\"h_{i+1}_no_noise.pt\")"
   ]
  }
 ],
 "metadata": {
  "kernelspec": {
   "display_name": "Python 3",
   "language": "python",
   "name": "python3"
  },
  "language_info": {
   "codemirror_mode": {
    "name": "ipython",
    "version": 3
   },
   "file_extension": ".py",
   "mimetype": "text/x-python",
   "name": "python",
   "nbconvert_exporter": "python",
   "pygments_lexer": "ipython3",
   "version": "3.11.8"
  }
 },
 "nbformat": 4,
 "nbformat_minor": 2
}
